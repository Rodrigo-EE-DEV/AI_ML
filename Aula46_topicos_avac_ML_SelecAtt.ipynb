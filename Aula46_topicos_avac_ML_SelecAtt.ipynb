{
  "nbformat": 4,
  "nbformat_minor": 0,
  "metadata": {
    "colab": {
      "provenance": [],
      "authorship_tag": "ABX9TyOUymvrj2F0kEKK4M5rpZ2H",
      "include_colab_link": true
    },
    "kernelspec": {
      "name": "python3",
      "display_name": "Python 3"
    },
    "language_info": {
      "name": "python"
    }
  },
  "cells": [
    {
      "cell_type": "markdown",
      "metadata": {
        "id": "view-in-github",
        "colab_type": "text"
      },
      "source": [
        "<a href=\"https://colab.research.google.com/github/RC-RX-DEV-AUX/DataScienceCourseFullLabs/blob/main/Aula46_topicos_avac_ML_SelecAtt.ipynb\" target=\"_parent\"><img src=\"https://colab.research.google.com/assets/colab-badge.svg\" alt=\"Open In Colab\"/></a>"
      ]
    },
    {
      "cell_type": "code",
      "execution_count": null,
      "metadata": {
        "id": "UyD8Yu9uUXji"
      },
      "outputs": [],
      "source": [
        "import pandas as pd\n",
        "from sklearn.model_selection import train_test_split\n",
        "from sklearn.naive_bayes import GaussianNB\n",
        "from sklearn.metrics import accuracy_score\n",
        "from sklearn.feature_selection import chi2, SelectKBest"
      ]
    },
    {
      "cell_type": "code",
      "source": [
        "anuncio = pd.read_csv(\"ad.data\", header = None)\n",
        "anuncio.shape"
      ],
      "metadata": {
        "colab": {
          "base_uri": "https://localhost:8080/"
        },
        "id": "JcdY2MRcVFes",
        "outputId": "84bdebb7-5432-4624-a20b-723c3c9272b3"
      },
      "execution_count": null,
      "outputs": [
        {
          "output_type": "execute_result",
          "data": {
            "text/plain": [
              "(3279, 1559)"
            ]
          },
          "metadata": {},
          "execution_count": 2
        }
      ]
    },
    {
      "cell_type": "code",
      "source": [
        "x = anuncio.iloc[:,:-1].values\n",
        "y = anuncio.iloc[:,-1].values"
      ],
      "metadata": {
        "id": "WyCFr7aHVgqt"
      },
      "execution_count": null,
      "outputs": []
    },
    {
      "cell_type": "code",
      "source": [
        "x"
      ],
      "metadata": {
        "colab": {
          "base_uri": "https://localhost:8080/"
        },
        "id": "Ptad4EF3VqOt",
        "outputId": "e99d4856-9e4e-47e7-afa1-2656420cc30f"
      },
      "execution_count": null,
      "outputs": [
        {
          "output_type": "execute_result",
          "data": {
            "text/plain": [
              "array([[125.    , 125.    ,   1.    , ...,   0.    ,   0.    ,   0.    ],\n",
              "       [ 57.    , 468.    ,   8.2105, ...,   0.    ,   0.    ,   0.    ],\n",
              "       [ 33.    , 230.    ,   6.9696, ...,   0.    ,   0.    ,   0.    ],\n",
              "       ...,\n",
              "       [ 23.    , 120.    ,   5.2173, ...,   0.    ,   0.    ,   0.    ],\n",
              "       [  0.    ,   0.    ,   0.    , ...,   0.    ,   0.    ,   0.    ],\n",
              "       [ 40.    ,  40.    ,   1.    , ...,   0.    ,   0.    ,   0.    ]])"
            ]
          },
          "metadata": {},
          "execution_count": 8
        }
      ]
    },
    {
      "cell_type": "code",
      "source": [
        "y"
      ],
      "metadata": {
        "colab": {
          "base_uri": "https://localhost:8080/"
        },
        "id": "37NPBDbOVr_F",
        "outputId": "18847352-3d77-430d-8406-756b12781d7a"
      },
      "execution_count": null,
      "outputs": [
        {
          "output_type": "execute_result",
          "data": {
            "text/plain": [
              "array(['ad.', 'ad.', 'ad.', ..., 'nonad.', 'nonad.', 'nonad.'],\n",
              "      dtype=object)"
            ]
          },
          "metadata": {},
          "execution_count": 7
        }
      ]
    },
    {
      "cell_type": "code",
      "source": [
        "x_treino,x_teste, y_treino, y_teste = train_test_split(x, y, test_size = 0.3, random_state = 0)"
      ],
      "metadata": {
        "id": "J1TKBgDUVzZc"
      },
      "execution_count": null,
      "outputs": []
    },
    {
      "cell_type": "code",
      "source": [
        "obj_modelo1 = GaussianNB()\n",
        "obj_modelo1.fit(x_treino, y_treino)\n",
        "previsores1 = obj_modelo1.predict(x_teste)\n",
        "print(f'Accuracy: {accuracy_score(y_teste, previsores1)}')"
      ],
      "metadata": {
        "colab": {
          "base_uri": "https://localhost:8080/"
        },
        "id": "SuAtXSQcWDnN",
        "outputId": "57907851-2f40-4ae4-9133-cd70fc90846e"
      },
      "execution_count": null,
      "outputs": [
        {
          "output_type": "stream",
          "name": "stdout",
          "text": [
            "Accuracy: 0.7764227642276422\n"
          ]
        }
      ]
    },
    {
      "cell_type": "code",
      "source": [
        "selecao = SelectKBest(chi2, k = 7) ##esteroide para o modelo :)\n",
        "x_novo = selecao.fit_transform(x,y)"
      ],
      "metadata": {
        "id": "ZFcopHPBWhjo"
      },
      "execution_count": null,
      "outputs": []
    },
    {
      "cell_type": "code",
      "source": [
        "x_novo"
      ],
      "metadata": {
        "colab": {
          "base_uri": "https://localhost:8080/"
        },
        "id": "_JPFU_0cWw6f",
        "outputId": "45424032-f77d-497b-906e-6210ce761cba"
      },
      "execution_count": null,
      "outputs": [
        {
          "output_type": "execute_result",
          "data": {
            "text/plain": [
              "array([[125.    , 125.    ,   1.    , ...,   1.    ,   0.    ,   1.    ],\n",
              "       [ 57.    , 468.    ,   8.2105, ...,   1.    ,   0.    ,   0.    ],\n",
              "       [ 33.    , 230.    ,   6.9696, ...,   0.    ,   0.    ,   0.    ],\n",
              "       ...,\n",
              "       [ 23.    , 120.    ,   5.2173, ...,   0.    ,   0.    ,   0.    ],\n",
              "       [  0.    ,   0.    ,   0.    , ...,   0.    ,   0.    ,   0.    ],\n",
              "       [ 40.    ,  40.    ,   1.    , ...,   0.    ,   0.    ,   0.    ]])"
            ]
          },
          "metadata": {},
          "execution_count": 15
        }
      ]
    },
    {
      "cell_type": "code",
      "source": [
        "x_novo.shape"
      ],
      "metadata": {
        "colab": {
          "base_uri": "https://localhost:8080/"
        },
        "id": "CLGk4QJYWyNH",
        "outputId": "c8b56561-b240-4bb0-b31d-0159a5c85f31"
      },
      "execution_count": null,
      "outputs": [
        {
          "output_type": "execute_result",
          "data": {
            "text/plain": [
              "(3279, 7)"
            ]
          },
          "metadata": {},
          "execution_count": 16
        }
      ]
    },
    {
      "cell_type": "code",
      "source": [
        "print(selecao.get_support())"
      ],
      "metadata": {
        "colab": {
          "base_uri": "https://localhost:8080/"
        },
        "id": "IhvAtbd2W1Jo",
        "outputId": "72976cd1-4aca-4005-9bb4-6705688acaf6"
      },
      "execution_count": null,
      "outputs": [
        {
          "output_type": "stream",
          "name": "stdout",
          "text": [
            "[ True  True  True ... False False False]\n"
          ]
        }
      ]
    },
    {
      "cell_type": "code",
      "source": [
        "#nova selçao de dados para um novo modelo"
      ],
      "metadata": {
        "id": "TUfYnKhTW6kp"
      },
      "execution_count": null,
      "outputs": []
    },
    {
      "cell_type": "code",
      "source": [
        "x_treino2, x_teste2, y_treino2, y_teste2 = train_test_split(\n",
        "    x_novo, y, test_size = 0.3, random_state = 0\n",
        ")"
      ],
      "metadata": {
        "id": "6pXzkhN9W9gp"
      },
      "execution_count": null,
      "outputs": []
    },
    {
      "cell_type": "code",
      "source": [
        "obj_modelo2 = GaussianNB()\n",
        "obj_modelo2.fit(x_treino2, y_treino)\n",
        "obj_previsores2 = obj_modelo2.predict(x_teste2)\n",
        "s = '{t}'\n",
        "print(s.format(t = f'Accuracy: {accuracy_score(y_teste2 ,obj_previsores2)}'.upper()))"
      ],
      "metadata": {
        "colab": {
          "base_uri": "https://localhost:8080/"
        },
        "id": "1a8w3jq5XK-R",
        "outputId": "a12d5bc4-e52d-4e8e-ad6e-583d91edaefc"
      },
      "execution_count": null,
      "outputs": [
        {
          "output_type": "stream",
          "name": "stdout",
          "text": [
            "ACCURACY: 0.9451219512195121\n"
          ]
        }
      ]
    }
  ]
}