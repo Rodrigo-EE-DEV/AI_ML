{
  "nbformat": 4,
  "nbformat_minor": 0,
  "metadata": {
    "colab": {
      "provenance": [],
      "authorship_tag": "ABX9TyM39RTajLMDfJr2aQ6G4zv0",
      "include_colab_link": true
    },
    "kernelspec": {
      "name": "python3",
      "display_name": "Python 3"
    },
    "language_info": {
      "name": "python"
    }
  },
  "cells": [
    {
      "cell_type": "markdown",
      "metadata": {
        "id": "view-in-github",
        "colab_type": "text"
      },
      "source": [
        "<a href=\"https://colab.research.google.com/github/RC-RX-DEV-AUX/DataScienceCourseFullLabs/blob/main/Secao_10_LabsAlgoritomosGeneticos.ipynb\" target=\"_parent\"><img src=\"https://colab.research.google.com/assets/colab-badge.svg\" alt=\"Open In Colab\"/></a>"
      ]
    },
    {
      "cell_type": "markdown",
      "source": [
        "#Lab 145 Criando umafunçao fitness"
      ],
      "metadata": {
        "id": "WsZ7YzOwJBBi"
      }
    },
    {
      "cell_type": "code",
      "source": [
        "import numpy as np"
      ],
      "metadata": {
        "id": "BW-r_B4mJ4EC"
      },
      "execution_count": 3,
      "outputs": []
    },
    {
      "cell_type": "code",
      "execution_count": 4,
      "metadata": {
        "id": "c2EQJ1SUIDLn"
      },
      "outputs": [],
      "source": [
        "def equation_func(solution):\n",
        "  x = solution[0]\n",
        "  equation_output = 2 * x + 5\n",
        "  target_output = 20\n",
        "  fitness = 1.0/np.abs(equation_output - target_output)\n",
        "  return fitness"
      ]
    },
    {
      "cell_type": "code",
      "source": [
        "lista = [-10, -5, 0, 5, 7.5, 10]\n",
        "for value in lista:\n",
        "  result = equation_func([value])\n",
        "  print(result)"
      ],
      "metadata": {
        "colab": {
          "base_uri": "https://localhost:8080/"
        },
        "id": "8ZVc8L9WI_Tz",
        "outputId": "98b1dfde-fca5-4913-a6bf-38082547b628"
      },
      "execution_count": 5,
      "outputs": [
        {
          "output_type": "stream",
          "name": "stdout",
          "text": [
            "0.02857142857142857\n",
            "0.04\n",
            "0.06666666666666667\n",
            "0.2\n",
            "inf\n",
            "0.2\n"
          ]
        },
        {
          "output_type": "stream",
          "name": "stderr",
          "text": [
            "<ipython-input-4-4d40b1db48d9>:5: RuntimeWarning: divide by zero encountered in scalar divide\n",
            "  fitness = 1.0/np.abs(equation_output - target_output)\n"
          ]
        }
      ]
    },
    {
      "cell_type": "markdown",
      "source": [
        "#Valor Real [aula 146]"
      ],
      "metadata": {
        "id": "8fJr0a5YKHGU"
      }
    },
    {
      "cell_type": "code",
      "source": [
        "!pip install pygad"
      ],
      "metadata": {
        "colab": {
          "base_uri": "https://localhost:8080/"
        },
        "id": "VhBKEtF5J99Z",
        "outputId": "155b82cd-81c6-4cfd-9c19-eff82896843c"
      },
      "execution_count": 6,
      "outputs": [
        {
          "output_type": "stream",
          "name": "stdout",
          "text": [
            "Collecting pygad\n",
            "  Downloading pygad-3.3.1-py3-none-any.whl.metadata (19 kB)\n",
            "Requirement already satisfied: cloudpickle in /usr/local/lib/python3.10/dist-packages (from pygad) (3.1.0)\n",
            "Requirement already satisfied: matplotlib in /usr/local/lib/python3.10/dist-packages (from pygad) (3.8.0)\n",
            "Requirement already satisfied: numpy in /usr/local/lib/python3.10/dist-packages (from pygad) (1.26.4)\n",
            "Requirement already satisfied: contourpy>=1.0.1 in /usr/local/lib/python3.10/dist-packages (from matplotlib->pygad) (1.3.0)\n",
            "Requirement already satisfied: cycler>=0.10 in /usr/local/lib/python3.10/dist-packages (from matplotlib->pygad) (0.12.1)\n",
            "Requirement already satisfied: fonttools>=4.22.0 in /usr/local/lib/python3.10/dist-packages (from matplotlib->pygad) (4.54.1)\n",
            "Requirement already satisfied: kiwisolver>=1.0.1 in /usr/local/lib/python3.10/dist-packages (from matplotlib->pygad) (1.4.7)\n",
            "Requirement already satisfied: packaging>=20.0 in /usr/local/lib/python3.10/dist-packages (from matplotlib->pygad) (24.2)\n",
            "Requirement already satisfied: pillow>=6.2.0 in /usr/local/lib/python3.10/dist-packages (from matplotlib->pygad) (11.0.0)\n",
            "Requirement already satisfied: pyparsing>=2.3.1 in /usr/local/lib/python3.10/dist-packages (from matplotlib->pygad) (3.2.0)\n",
            "Requirement already satisfied: python-dateutil>=2.7 in /usr/local/lib/python3.10/dist-packages (from matplotlib->pygad) (2.8.2)\n",
            "Requirement already satisfied: six>=1.5 in /usr/local/lib/python3.10/dist-packages (from python-dateutil>=2.7->matplotlib->pygad) (1.16.0)\n",
            "Downloading pygad-3.3.1-py3-none-any.whl (84 kB)\n",
            "\u001b[?25l   \u001b[90m━━━━━━━━━━━━━━━━━━━━━━━━━━━━━━━━━━━━━━━━\u001b[0m \u001b[32m0.0/84.1 kB\u001b[0m \u001b[31m?\u001b[0m eta \u001b[36m-:--:--\u001b[0m\r\u001b[2K   \u001b[90m━━━━━━━━━━━━━━━━━━━━━━━━━━━━━━━━━━━━━━━━\u001b[0m \u001b[32m84.1/84.1 kB\u001b[0m \u001b[31m7.4 MB/s\u001b[0m eta \u001b[36m0:00:00\u001b[0m\n",
            "\u001b[?25hInstalling collected packages: pygad\n",
            "Successfully installed pygad-3.3.1\n"
          ]
        }
      ]
    },
    {
      "cell_type": "code",
      "source": [
        "import pygad\n",
        "import numpy as np"
      ],
      "metadata": {
        "id": "OfvwTKo0KVW7"
      },
      "execution_count": 8,
      "outputs": []
    },
    {
      "cell_type": "code",
      "source": [
        "def equation_func(ga_instance, solution, solution_idx):\n",
        "  x= solution[0]\n",
        "  equation_output = 2 * x + 5\n",
        "  target_output = 20\n",
        "  fitness = 1.0 / np.abs(equation_output - target_output + 1e-8)\n",
        "  return fitness\n",
        "\n",
        "ga_instance = pygad.GA(\n",
        "    num_generations = 50, ##geraçoes == epochs emalgoritmos geneticos\n",
        "    num_parents_mating = 10,\n",
        "    fitness_func = equation_func,\n",
        "    sol_per_pop = 20,\n",
        "    num_genes = 1,\n",
        "    gene_type = float,\n",
        "    init_range_low = -10,\n",
        "    init_range_high = 10\n",
        ")\n",
        "\n",
        "ga_instance.run()\n",
        "ga_instance.plot_fitness()\n",
        "\n",
        "solution, solution_fitness, _ = ga_instance.best_solution()\n",
        "print(\"Melhor Soluçao: \", round(solution[0],1))\n",
        "print(\"Pontos: \", solution_fitness)"
      ],
      "metadata": {
        "colab": {
          "base_uri": "https://localhost:8080/",
          "height": 644
        },
        "id": "7hNtL33pKYbI",
        "outputId": "86da536c-35d8-4cd3-9bb8-f26406b54937"
      },
      "execution_count": 12,
      "outputs": [
        {
          "output_type": "stream",
          "name": "stderr",
          "text": [
            "/usr/local/lib/python3.10/dist-packages/pygad/pygad.py:728: UserWarning: The percentage of genes to mutate (mutation_percent_genes=10) resulted in selecting (0) genes. The number of genes to mutate is set to 1 (mutation_num_genes=1).\n",
            "If you do not want to mutate any gene, please set mutation_type=None.\n",
            "  warnings.warn(\n",
            "/usr/local/lib/python3.10/dist-packages/pygad/pygad.py:1139: UserWarning: The 'delay_after_gen' parameter is deprecated starting from PyGAD 3.3.0. To delay or pause the evolution after each generation, assign a callback function/method to the 'on_generation' parameter to adds some time delay.\n",
            "  warnings.warn(\"The 'delay_after_gen' parameter is deprecated starting from PyGAD 3.3.0. To delay or pause the evolution after each generation, assign a callback function/method to the 'on_generation' parameter to adds some time delay.\")\n",
            "WARNING:matplotlib.legend:No artists with labels found to put in legend.  Note that artists whose label start with an underscore are ignored when legend() is called with no argument.\n"
          ]
        },
        {
          "output_type": "display_data",
          "data": {
            "text/plain": [
              "<Figure size 640x480 with 1 Axes>"
            ],
            "image/png": "[encoded data removed]"
          },
          "metadata": {}
        },
        {
          "output_type": "stream",
          "name": "stdout",
          "text": [
            "Melhor Soluçao:  7.5\n",
            "Pontos:  1360.7736784634915\n"
          ]
        }
      ]
    },
    {
      "cell_type": "code",
      "source": [
        "'''\n",
        "Gemni explanations:\n",
        "\n",
        "[[[The error message AttributeError: 'GA' object has no attribute 'plot_result' indicates that the pygad.GA class does not have a method called plot_result.\n",
        "This is likely due to an outdated or incorrect version of the pygad library being used.\n",
        "The plot_result function was renamed to plot_fitness in newer versions.]]]\n",
        "\n",
        "Suggested Changes\n",
        "\n",
        "import pygad\n",
        "import numpy as np\n",
        "\n",
        "def equation_func(ga_instance, solution, solution_idx):\n",
        "  x= solution[0]\n",
        "  equation_output = 2 * x + 5\n",
        "  target_output = 20\n",
        "  fitness = 1.0 / np.abs(equation_output - target_output + 1e-8)\n",
        "  return fitness\n",
        "\n",
        "ga_instance = pygad.GA(\n",
        "    num_generations = 50, ##geraçoes == epochs emalgoritmos geneticos\n",
        "    num_parents_mating = 10,\n",
        "    fitness_func = equation_func,\n",
        "    sol_per_pop = 20,\n",
        "    num_genes = 1,\n",
        "    gene_type = float,\n",
        "    init_range_low = -10,\n",
        "    init_range_high = 10\n",
        ")\n",
        "\n",
        "ga_instance.run()\n",
        "# The plot_result() method has been replaced with plot_fitness()\n",
        "ga_instance.plot_fitness() # Changed this line\n",
        "\n",
        "solution, solution_fitness, _ = ga_instance.best_solution()\n",
        "print(\"Melhor Soluçao: \", round(solution[0],1))\n",
        "print(\"Pontos: \", solution_fitness)\n",
        "\n",
        "\n",
        "'''"
      ],
      "metadata": {
        "id": "1-LKcWmwMqjn"
      },
      "execution_count": null,
      "outputs": []
    },
    {
      "cell_type": "markdown",
      "source": [
        "<h2>Aula 148 -> exemplo/Lab final do uso de algoritmos geneticos</h2>"
      ],
      "metadata": {
        "id": "eHNCFTljOr7U"
      }
    },
    {
      "cell_type": "code",
      "source": [
        "import pygad\n",
        "import numpy as np"
      ],
      "metadata": {
        "id": "Tx2nXh94O5Sj"
      },
      "execution_count": 13,
      "outputs": []
    },
    {
      "cell_type": "code",
      "source": [
        "itens = [\n",
        "    (\"canivete\", 10, 1),\n",
        "    (\"feijao\", 20, 5),\n",
        "    (\"batatas\", 15, 10),\n",
        "    (\"lanterna\", 2, 1),\n",
        "    (\"saco de dormir\", 30, 7),\n",
        "    (\"corda\", 10, 5),\n",
        "    (\"bussula\", 30, 1)\n",
        "]\n",
        "limite_peso = 15\n",
        "\n",
        "def fitness_func(ga_instance, solution, solution_idx):\n",
        "  pontos = 0\n",
        "  peso = 0\n",
        "  for i in range(len(solution)):\n",
        "    if solution[i] == 1:\n",
        "      pontos += itens[i][1]\n",
        "      peso += itens[i][2]\n",
        "    if peso > limite_peso:\n",
        "      return -1\n",
        "  return pontos\n",
        "\n",
        "ga_instance = pygad.GA(\n",
        "    num_generations = 100,\n",
        "    num_parents_mating = 5,\n",
        "    fitness_func = fitness_func,\n",
        "    sol_per_pop = 10,\n",
        "    num_genes = len(itens),\n",
        "    gene_type = int,\n",
        "    init_range_low = 0,\n",
        "    init_range_high = 2\n",
        ")\n",
        "\n",
        "ga_instance.run()\n",
        "solution, solution_fitness, _ = ga_instance.best_solution()\n",
        "print(\"Melhor Soluçao: \", solution)\n",
        "print(\"Potos: \", solution_fitness)\n",
        "#1100101 --> 90\n",
        "#1101101 --> 92"
      ],
      "metadata": {
        "colab": {
          "base_uri": "https://localhost:8080/"
        },
        "id": "cpo6EP3SO9Ry",
        "outputId": "2b97e636-b86b-48ec-8591-a13f17608b47"
      },
      "execution_count": 23,
      "outputs": [
        {
          "output_type": "stream",
          "name": "stdout",
          "text": [
            "Melhor Soluçao:  [1 1 0 1 1 0 1]\n",
            "Potos:  92\n"
          ]
        }
      ]
    },
    {
      "cell_type": "code",
      "source": [],
      "metadata": {
        "id": "kqEiX5YPPbak"
      },
      "execution_count": null,
      "outputs": []
    }
  ]
}