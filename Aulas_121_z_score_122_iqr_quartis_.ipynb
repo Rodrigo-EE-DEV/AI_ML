{
  "nbformat": 4,
  "nbformat_minor": 0,
  "metadata": {
    "colab": {
      "provenance": [],
      "authorship_tag": "ABX9TyMmgP11iK3Kj7DLAZmQKGHN",
      "include_colab_link": true
    },
    "kernelspec": {
      "name": "python3",
      "display_name": "Python 3"
    },
    "language_info": {
      "name": "python"
    }
  },
  "cells": [
    {
      "cell_type": "markdown",
      "metadata": {
        "id": "view-in-github",
        "colab_type": "text"
      },
      "source": [
        "<a href=\"https://colab.research.google.com/github/RC-RX-DEV-AUX/DataScienceCourseFullLabs/blob/main/Aulas_121_z_score_122_iqr_quartis_.ipynb\" target=\"_parent\"><img src=\"https://colab.research.google.com/assets/colab-badge.svg\" alt=\"Open In Colab\"/></a>"
      ]
    },
    {
      "cell_type": "code",
      "execution_count": 1,
      "metadata": {
        "id": "RYJmYul5Vd75"
      },
      "outputs": [],
      "source": [
        "import numpy as np\n",
        "import scipy.stats as sc_stats"
      ]
    },
    {
      "cell_type": "code",
      "source": [
        "data_obj = np.array([30,29,30,31, 100, 29, 28, 30, 300, 31, 32, 33])"
      ],
      "metadata": {
        "id": "O-PQWRFvVqL5"
      },
      "execution_count": 2,
      "outputs": []
    },
    {
      "cell_type": "code",
      "source": [
        "zscores = sc_stats.zscore(data_obj)\n",
        "print(zscores)"
      ],
      "metadata": {
        "colab": {
          "base_uri": "https://localhost:8080/"
        },
        "id": "MnpJxOtxV0j3",
        "outputId": "9928154b-b226-442f-e6bb-7e32cb902e4a"
      },
      "execution_count": 3,
      "outputs": [
        {
          "output_type": "stream",
          "name": "stdout",
          "text": [
            "[-0.37966016 -0.39294273 -0.37966016 -0.36637759  0.55011982 -0.39294273\n",
            " -0.4062253  -0.37966016  3.20663406 -0.36637759 -0.35309502 -0.33981245]\n"
          ]
        }
      ]
    },
    {
      "cell_type": "code",
      "source": [
        "anomalia = data_obj[np.abs(zscores)>3]\n",
        "print(f'Anomalias identificadas {anomalia}'.upper())"
      ],
      "metadata": {
        "colab": {
          "base_uri": "https://localhost:8080/"
        },
        "id": "gSCZgZXnWDKp",
        "outputId": "f27bc24d-9006-4c7f-f3fd-a745ebf5dafe"
      },
      "execution_count": 6,
      "outputs": [
        {
          "output_type": "stream",
          "name": "stdout",
          "text": [
            "ANOMALIAS IDENTIFICADAS [300]\n"
          ]
        }
      ]
    },
    {
      "cell_type": "markdown",
      "source": [
        "<h2><b>Aula 122 Quartis e IQR</b></h2>"
      ],
      "metadata": {
        "id": "-ELAKEPgWTYm"
      }
    },
    {
      "cell_type": "code",
      "source": [
        "import numpy as np"
      ],
      "metadata": {
        "id": "jwIJkfMpWZwO"
      },
      "execution_count": 7,
      "outputs": []
    },
    {
      "cell_type": "code",
      "source": [
        "dataset_obj = [1,2,3,4,5,6,7,8,9,100]"
      ],
      "metadata": {
        "id": "UAoJmVpkWidh"
      },
      "execution_count": 8,
      "outputs": []
    },
    {
      "cell_type": "code",
      "source": [
        "quartil1 = np.percentile(dataset_obj, 25)\n",
        "quartil3 = np.percentile(dataset_obj, 75)\n",
        "iqr = quartil3 - quartil1\n",
        "\n",
        "limite_inferior = quartil1 - 1.5*iqr\n",
        "limite_superior = quartil3 + 1.5*iqr\n",
        "\n",
        "outliers = []\n",
        "\n",
        "for value in dataset_obj:\n",
        "  if value < limite_inferior or value > limite_superior:\n",
        "    outliers.append(value)\n",
        "print(\"Anomalias: \".upper(), outliers)"
      ],
      "metadata": {
        "colab": {
          "base_uri": "https://localhost:8080/"
        },
        "id": "V_oz2Dl1Wfom",
        "outputId": "ca697f30-874e-41e2-d533-cb28f1e8629e"
      },
      "execution_count": 10,
      "outputs": [
        {
          "output_type": "stream",
          "name": "stdout",
          "text": [
            "ANOMALIAS:  [100]\n"
          ]
        }
      ]
    }
  ]
}