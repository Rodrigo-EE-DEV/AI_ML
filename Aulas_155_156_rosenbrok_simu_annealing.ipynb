{
  "nbformat": 4,
  "nbformat_minor": 0,
  "metadata": {
    "colab": {
      "provenance": [],
      "authorship_tag": "ABX9TyOveyY8N5e2COyi9DDr6CJM",
      "include_colab_link": true
    },
    "kernelspec": {
      "name": "python3",
      "display_name": "Python 3"
    },
    "language_info": {
      "name": "python"
    }
  },
  "cells": [
    {
      "cell_type": "markdown",
      "metadata": {
        "id": "view-in-github",
        "colab_type": "text"
      },
      "source": [
        "<a href=\"https://colab.research.google.com/github/RC-RX-DEV-AUX/DataScienceCourseFullLabs/blob/main/Aulas_155_156_rosenbrok_simu_annealing.ipynb\" target=\"_parent\"><img src=\"https://colab.research.google.com/assets/colab-badge.svg\" alt=\"Open In Colab\"/></a>"
      ]
    },
    {
      "cell_type": "markdown",
      "source": [
        "#Funçao de Rosenbrock e simullated annealing [seçao 11, algoritmos de busca e otimizaçao]"
      ],
      "metadata": {
        "id": "qsIWMQ5sGIS_"
      }
    },
    {
      "cell_type": "code",
      "execution_count": 1,
      "metadata": {
        "id": "l6K9fUgCF29P"
      },
      "outputs": [],
      "source": [
        "import numpy as np\n",
        "from scipy.optimize import basinhopping"
      ]
    },
    {
      "cell_type": "code",
      "source": [
        "def rosenbrock(x):\n",
        "  return (1-x[0])**2 + 100*(x[1]-x[0]**2)**2\n",
        "\n",
        "bounds = [(-2,2),(-2,2)]\n",
        "x0 = np.array([0,0])\n",
        "\n",
        "options =  {'stepsize': 0.5, 'T':1.0, 'niter':100, 'disp':False} ##T vem de--> temperatura!!\n",
        "\n",
        "result = basinhopping(rosenbrock, x0, minimizer_kwargs = {'bounds': bounds}, **options)\n",
        "\n",
        "print(result)"
      ],
      "metadata": {
        "colab": {
          "base_uri": "https://localhost:8080/"
        },
        "id": "CrJdJNi2Ghv9",
        "outputId": "600a8889-e224-4a6a-a681-4fbdde991b73"
      },
      "execution_count": 3,
      "outputs": [
        {
          "output_type": "stream",
          "name": "stdout",
          "text": [
            "                    message: ['requested number of basinhopping iterations completed successfully']\n",
            "                    success: True\n",
            "                        fun: 5.844845539941423e-13\n",
            "                          x: [ 1.000e+00  1.000e+00]\n",
            "                        nit: 100\n",
            "      minimization_failures: 0\n",
            "                       nfev: 6708\n",
            "                       njev: 2236\n",
            " lowest_optimization_result:  message: CONVERGENCE: REL_REDUCTION_OF_F_<=_FACTR*EPSMCH\n",
            "                              success: True\n",
            "                               status: 0\n",
            "                                  fun: 5.844845539941423e-13\n",
            "                                    x: [ 1.000e+00  1.000e+00]\n",
            "                                  nit: 14\n",
            "                                  jac: [ 2.084e-05 -8.030e-06]\n",
            "                                 nfev: 48\n",
            "                                 njev: 16\n",
            "                             hess_inv: <2x2 LbfgsInvHessProduct with dtype=float64>\n"
          ]
        }
      ]
    }
  ]
}